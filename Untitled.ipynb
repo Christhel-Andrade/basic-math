{
<<<<<<< Updated upstream
 "cells": [
  {
   "cell_type": "code",
   "execution_count": null,
<<<<<<< Updated upstream
   "id": "8de4756d-87d8-47d7-9773-263719975466",
=======
   "id": "c16b2cff-b15d-414e-94ab-3234baf8c9b6",
>>>>>>> Stashed changes
   "metadata": {},
   "outputs": [],
   "source": []
  }
 ],
 "metadata": {
  "kernelspec": {
   "display_name": "Python 3 (ipykernel)",
   "language": "python",
   "name": "python3"
  },
  "language_info": {
   "codemirror_mode": {
    "name": "ipython",
    "version": 3
   },
   "file_extension": ".py",
   "mimetype": "text/x-python",
   "name": "python",
   "nbconvert_exporter": "python",
   "pygments_lexer": "ipython3",
   "version": "3.11.10"
  }
 },
=======
 "cells": [],
 "metadata": {},
>>>>>>> Stashed changes
 "nbformat": 4,
 "nbformat_minor": 5
}
