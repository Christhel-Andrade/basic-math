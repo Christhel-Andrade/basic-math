{
 "cells": [
  {
   "cell_type": "code",
   "execution_count": 22,
   "id": "5b877106-4bdf-4b65-ae4c-1ecccbbbe7dd",
   "metadata": {},
   "outputs": [],
   "source": [
    "from numbers import Number\n",
    "\n",
    "def add(a: Number, b: Number) -> Number:\n",
    "    return a + b"
   ]
  },
  {
   "cell_type": "code",
   "execution_count": 13,
   "id": "a07ad76f-ab8c-43d8-8ea2-2dcc32353d24",
   "metadata": {},
   "outputs": [],
   "source": [
    "import ipytest\n",
    "ipytest.autoconfig()"
   ]
  },
  {
   "cell_type": "code",
   "execution_count": 23,
   "id": "24458ab0-aa44-4b92-9725-f5dd50fc5860",
   "metadata": {},
   "outputs": [],
   "source": [
    "def test_addition():\n",
    "    assert add(1, 2) == 3"
   ]
  },
  {
   "cell_type": "code",
   "execution_count": 24,
   "id": "fd059eed-b0c4-4e9a-9303-adc8ddee82e5",
   "metadata": {},
   "outputs": [
    {
     "name": "stdout",
     "output_type": "stream",
     "text": [
      "\u001b[1m======================================= test session starts =======================================\u001b[0m\n",
      "platform win32 -- Python 3.11.10, pytest-8.3.3, pluggy-1.5.0 -- C:\\Users\\andraded\\AppData\\Local\\anaconda3\\envs\\bw25\\python.exe\n",
      "cachedir: .pytest_cache\n",
      "rootdir: C:\\Users\\andraded\\Documents\\GitHub\\basic-math\n",
      "plugins: anyio-4.6.2.post1\n",
      "\u001b[1mcollecting ... \u001b[0mcollected 2 items\n",
      "\n",
      "t_eb5c8bea0a13484da79c6a2b87e2c418.py::test_add_simple \u001b[32mPASSED\u001b[0m\u001b[32m                                [ 50%]\u001b[0m\n",
      "t_eb5c8bea0a13484da79c6a2b87e2c418.py::test_addition \u001b[32mPASSED\u001b[0m\u001b[32m                                  [100%]\u001b[0m\n",
      "\n",
      "\u001b[32m======================================== \u001b[32m\u001b[1m2 passed\u001b[0m\u001b[32m in 0.07s\u001b[0m\u001b[32m ========================================\u001b[0m\n"
     ]
    },
    {
     "data": {
      "text/plain": [
       "<ExitCode.OK: 0>"
      ]
     },
     "execution_count": 24,
     "metadata": {},
     "output_type": "execute_result"
    }
   ],
   "source": [
    "ipytest.run('-vv')"
   ]
  },
  {
   "cell_type": "code",
   "execution_count": null,
   "id": "86a0d55d-86a0-4cee-960e-6c0f6ccec3d7",
   "metadata": {},
   "outputs": [],
   "source": []
  }
 ],
 "metadata": {
  "kernelspec": {
   "display_name": "Python 3 (ipykernel)",
   "language": "python",
   "name": "python3"
  },
  "language_info": {
   "codemirror_mode": {
    "name": "ipython",
    "version": 3
   },
   "file_extension": ".py",
   "mimetype": "text/x-python",
   "name": "python",
   "nbconvert_exporter": "python",
   "pygments_lexer": "ipython3",
   "version": "3.11.10"
  }
 },
 "nbformat": 4,
 "nbformat_minor": 5
}
